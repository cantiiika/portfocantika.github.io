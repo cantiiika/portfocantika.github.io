bunga.ipynb

import turtle  

t = turtle.Turtle()
s = turtle.Screeen()

